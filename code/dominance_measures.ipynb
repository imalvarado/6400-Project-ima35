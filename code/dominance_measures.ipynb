{
 "cells": [
  {
   "cell_type": "code",
   "execution_count": 1,
   "metadata": {},
   "outputs": [],
   "source": [
    "import networkx as nx\n",
    "import os"
   ]
  },
  {
   "cell_type": "code",
   "execution_count": 16,
   "metadata": {},
   "outputs": [
    {
     "name": "stdout",
     "output_type": "stream",
     "text": [
      "Gabriel Medina: 0.03820801607334856\n",
      "Jordy Smith: 0.03634532105486061\n",
      "Kelly Slater: 0.03623509131758965\n",
      "Julian Wilson: 0.032841977762073725\n",
      "Adriano de Souza: 0.03217487291851714\n",
      "Joel Parkinson: 0.031091486083799826\n",
      "Mick Fanning: 0.030769054771402134\n",
      "John John Florence: 0.03066040491043954\n",
      "Michel Bourez: 0.030262382840446\n",
      "Owen Wright: 0.02880253433584227\n",
      "\n",
      "\n",
      "\n",
      "Kelly Slater: 0.8846153846153847\n",
      "Owen Wright: 0.8692307692307693\n",
      "Jeremy Flores: 0.8615384615384616\n",
      "Adriano de Souza: 0.8538461538461539\n",
      "Jordy Smith: 0.8461538461538463\n",
      "Adrian Buchan: 0.8384615384615385\n",
      "Michel Bourez: 0.8307692307692308\n",
      "Jadson Andre: 0.8076923076923077\n",
      "Joel Parkinson: 0.7923076923076924\n",
      "Mick Fanning: 0.7846153846153847\n"
     ]
    }
   ],
   "source": [
    "overall_net = nx.read_gml(\"../data/networks/overall_results_network.gml\")\n",
    "\n",
    "# PAGERANK\n",
    "node_pageranks = dict(nx.pagerank(overall_net))\n",
    "\n",
    "sorted_items = sorted(node_pageranks.items(), key=lambda item: item[1], reverse=True)\n",
    "sorted_surfers = dict(sorted_items)\n",
    "count = 0\n",
    "for key, value in sorted_surfers.items():\n",
    "    print(f\"{key}: {value}\")\n",
    "    count += 1\n",
    "    if count >= 10:\n",
    "        break\n",
    "\n",
    "print(\"\\n\\n\")\n",
    "\n",
    "# IN DEGREE CENTRALITY\n",
    "node_degrees = dict(nx.in_degree_centrality(overall_net))\n",
    "\n",
    "sorted_items = sorted(node_degrees.items(), key=lambda item: item[1], reverse=True)\n",
    "sorted_surfers = dict(sorted_items)\n",
    "count = 0\n",
    "for key, value in sorted_surfers.items():\n",
    "    print(f\"{key}: {value}\")\n",
    "    count += 1\n",
    "    if count >= 10:\n",
    "        break"
   ]
  }
 ],
 "metadata": {
  "kernelspec": {
   "display_name": "my_env",
   "language": "python",
   "name": "python3"
  },
  "language_info": {
   "codemirror_mode": {
    "name": "ipython",
    "version": 3
   },
   "file_extension": ".py",
   "mimetype": "text/x-python",
   "name": "python",
   "nbconvert_exporter": "python",
   "pygments_lexer": "ipython3",
   "version": "3.12.2"
  }
 },
 "nbformat": 4,
 "nbformat_minor": 2
}
