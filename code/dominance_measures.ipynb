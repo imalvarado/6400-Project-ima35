{
 "cells": [
  {
   "cell_type": "code",
   "execution_count": 1,
   "metadata": {},
   "outputs": [],
   "source": [
    "import networkx as nx\n",
    "import os"
   ]
  },
  {
   "cell_type": "code",
   "execution_count": 2,
   "metadata": {},
   "outputs": [
    {
     "name": "stdout",
     "output_type": "stream",
     "text": [
      "Mick Fanning: 0.12053869455240505\n",
      "Gabriel Medina: 0.10716722244991689\n",
      "Kelly Slater: 0.08062279243911703\n",
      "Bruno Santos: 0.03920897853484276\n",
      "Vasco Ribeiro: 0.03713396538387897\n",
      "Jordy Smith: 0.0336142459126536\n",
      "Julian Wilson: 0.03185268630581532\n",
      "Italo Ferreira: 0.0307924886960928\n",
      "Filipe Toledo: 0.03038179091201159\n",
      "Joel Parkinson: 0.022167401224049154\n",
      "\n",
      "\n",
      "\n",
      "Jordy Smith: 0.7769230769230769\n",
      "Kelly Slater: 0.7692307692307693\n",
      "Gabriel Medina: 0.7615384615384616\n",
      "Mick Fanning: 0.7538461538461538\n",
      "Michel Bourez: 0.7076923076923077\n",
      "Julian Wilson: 0.6923076923076923\n",
      "Owen Wright: 0.6846153846153846\n",
      "Adriano de Souza: 0.676923076923077\n",
      "Joel Parkinson: 0.676923076923077\n",
      "Filipe Toledo: 0.6307692307692307\n"
     ]
    }
   ],
   "source": [
    "overall_net = nx.read_gml(\"../data/networks/overall_results_network.gml\")\n",
    "\n",
    "# PAGERANK\n",
    "node_pageranks = dict(nx.pagerank(overall_net))\n",
    "\n",
    "sorted_items = sorted(node_pageranks.items(), key=lambda item: item[1], reverse=True)\n",
    "sorted_surfers = dict(sorted_items)\n",
    "count = 0\n",
    "for key, value in sorted_surfers.items():\n",
    "    print(f\"{key}: {value}\")\n",
    "    count += 1\n",
    "    if count >= 10:\n",
    "        break\n",
    "\n",
    "print(\"\\n\\n\")\n",
    "\n",
    "# IN DEGREE CENTRALITY\n",
    "node_degrees = dict(nx.in_degree_centrality(overall_net))\n",
    "\n",
    "sorted_items = sorted(node_degrees.items(), key=lambda item: item[1], reverse=True)\n",
    "sorted_surfers = dict(sorted_items)\n",
    "count = 0\n",
    "for key, value in sorted_surfers.items():\n",
    "    print(f\"{key}: {value}\")\n",
    "    count += 1\n",
    "    if count >= 10:\n",
    "        break"
   ]
  }
 ],
 "metadata": {
  "kernelspec": {
   "display_name": "my_env",
   "language": "python",
   "name": "python3"
  },
  "language_info": {
   "codemirror_mode": {
    "name": "ipython",
    "version": 3
   },
   "file_extension": ".py",
   "mimetype": "text/x-python",
   "name": "python",
   "nbconvert_exporter": "python",
   "pygments_lexer": "ipython3",
   "version": "3.12.2"
  }
 },
 "nbformat": 4,
 "nbformat_minor": 2
}
