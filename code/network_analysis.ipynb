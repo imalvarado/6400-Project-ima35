{
 "cells": [
  {
   "cell_type": "code",
   "execution_count": 64,
   "metadata": {},
   "outputs": [],
   "source": [
    "import pandas as pd\n",
    "import networkx as nx\n",
    "import matplotlib.pyplot as plt\n",
    "import seaborn as sns\n",
    "import os"
   ]
  },
  {
   "cell_type": "code",
   "execution_count": 65,
   "metadata": {},
   "outputs": [],
   "source": [
    "def visualize_graph(G):\n",
    "\n",
    "    # SET LAYOUT\n",
    "    pos = nx.spring_layout(G, k=1, iterations=20)\n",
    "\n",
    "    # GET NODE INFO\n",
    "    in_degrees = dict(G.in_degree())\n",
    "\n",
    "    # SET NODE SIZING\n",
    "    node_sizes = [in_degrees[node]*30 for node in G.nodes()]\n",
    "\n",
    "    # DRAW NETWORK\n",
    "    nx.draw(G,\n",
    "        node_size=node_sizes,\n",
    "        pos=pos\n",
    "    )\n",
    "\n",
    "\n",
    "def in_degree_summary(G):\n",
    "\n",
    "    # PRINT NUMBER OF NODES\n",
    "    print(f\"Number of nodes (surfers): {len(G.nodes())}\\n\")\n",
    "\n",
    "    # GET IN-DEGREE STATS\n",
    "    print(\"IN-DEGREE SUMMARY:\")\n",
    "    node_in_degrees = dict(G.in_degree(weight=\"weight\"))\n",
    "    in_degree_list = list(node_in_degrees.values())\n",
    "    surfer_list = list(node_in_degrees.keys())\n",
    "\n",
    "    # SHOW HISTOGRAM\n",
    "    sns.histplot(in_degree_list, bins=20, color=\"darkblue\")\n",
    "    plt.title(\"Distribution of In-degree\", fontsize=18)\n",
    "    plt.xlabel(\"In-degree\", fontsize=14)\n",
    "    plt.ylabel(\"Surfer count\", fontsize=14)\n",
    "    plt.show(); plt.clf()\n",
    "\n",
    "    # MAKE DATAFRAME\n",
    "    in_degree_df = pd.DataFrame({\"surfer\": surfer_list, \"in-degree\": in_degree_list})\n",
    "    in_degree_df = in_degree_df.sort_values(by=\"in-degree\", ascending=False)\n",
    "    in_degree_df.reset_index(inplace=True, drop=True)\n",
    "    print(in_degree_df.head(20))\n",
    "    print(\"\\n\")\n",
    "    \n",
    "    # ISOLATE TOP SURFERS BY IN-DEGREE\n",
    "    nodes_over = in_degree_df[in_degree_df[\"in-degree\"] > 400]\n",
    "    perc_over = len(nodes_over) / len(in_degree_df)\n",
    "    print(f\"Number of surfers with in-degree > 400: {len(nodes_over)}\")\n",
    "    print(f\"Surfers with in-degree >400: {round(perc_over, 4)*100}%\")\n",
    "    \n"
   ]
  },
  {
   "cell_type": "markdown",
   "metadata": {},
   "source": [
    "## Analysis of in-degree"
   ]
  },
  {
   "cell_type": "code",
   "execution_count": 66,
   "metadata": {},
   "outputs": [
    {
     "name": "stdout",
     "output_type": "stream",
     "text": [
      "Number of nodes (surfers): 131\n",
      "\n",
      "IN-DEGREE SUMMARY:\n"
     ]
    },
    {
     "data": {
      "image/png": "[encoded data removed]",
      "text/plain": [
       "<Figure size 640x480 with 1 Axes>"
      ]
     },
     "metadata": {},
     "output_type": "display_data"
    },
    {
     "name": "stdout",
     "output_type": "stream",
     "text": [
      "                surfer  in-degree\n",
      "0       Gabriel Medina       1519\n",
      "1         Mick Fanning       1319\n",
      "2         Kelly Slater       1306\n",
      "3          Jordy Smith       1267\n",
      "4        Julian Wilson       1080\n",
      "5       Joel Parkinson       1053\n",
      "6     Adriano de Souza        941\n",
      "7   John John Florence        851\n",
      "8           Taj Burrow        815\n",
      "9        Michel Bourez        788\n",
      "10         Owen Wright        726\n",
      "11       Filipe Toledo        718\n",
      "12           Josh Kerr        629\n",
      "13       Jeremy Flores        605\n",
      "14       Adrian Buchan        575\n",
      "15      Italo Ferreira        570\n",
      "16       Kolohe Andino        512\n",
      "17     Sebastian Zietz        359\n",
      "18      Kanoa Igarashi        329\n",
      "19       Bede Durbidge        321\n",
      "\n",
      "\n",
      "Number of surfers with in-degree > 400: 17\n",
      "Surfers with in-degree >400: 12.98%\n"
     ]
    },
    {
     "data": {
      "text/plain": [
       "<Figure size 640x480 with 0 Axes>"
      ]
     },
     "metadata": {},
     "output_type": "display_data"
    }
   ],
   "source": [
    "net = nx.read_gml(f\"../data/networks/overall_results_network.gml\")\n",
    "in_degree_summary(net)"
   ]
  },
  {
   "cell_type": "code",
   "execution_count": 67,
   "metadata": {},
   "outputs": [
    {
     "name": "stdout",
     "output_type": "stream",
     "text": [
      "---------------------------------------------\n",
      "EVENT: MARGARET-RIVER_RESULTS\n",
      "---------------------------------------------\n",
      "EVENT: QUIKSILVER-PRO-GOLD-COAST_RESULTS\n",
      "---------------------------------------------\n",
      "EVENT: TEAHUPOO_RESULTS\n",
      "---------------------------------------------\n",
      "EVENT: BILLABONG-PIPE-MASTERS_RESULTS\n",
      "---------------------------------------------\n",
      "EVENT: FIJI_RESULTS\n",
      "---------------------------------------------\n",
      "EVENT: J-BAY_RESULTS\n",
      "---------------------------------------------\n",
      "EVENT: RIO_RESULTS\n",
      "---------------------------------------------\n",
      "EVENT: PORTUGAL_RESULTS\n",
      "---------------------------------------------\n",
      "EVENT: BALI_RESULTS\n",
      "---------------------------------------------\n",
      "EVENT: QUIKSILVER-PRO-FRANCE_RESULTS\n",
      "---------------------------------------------\n",
      "EVENT: OVERALL_RESULTS\n",
      "---------------------------------------------\n",
      "EVENT: TRESTLES_RESULTS\n",
      "---------------------------------------------\n",
      "EVENT: RIP-CURL-PRO-BELLS-BEACH_RESULTS\n"
     ]
    }
   ],
   "source": [
    "network_files = os.listdir(\"../data/networks\")\n",
    "\n",
    "for file in network_files:\n",
    "\n",
    "    event_name = file.split(\"_network\")[0]\n",
    "    print(\"---------------------------------------------\")\n",
    "    print(f\"EVENT: {event_name.upper()}\")\n",
    "\n",
    "    net = nx.read_gml(f\"../data/networks/{file}\")\n",
    "\n",
    "    #quick_summary(net)"
   ]
  }
 ],
 "metadata": {
  "kernelspec": {
   "display_name": "my_env",
   "language": "python",
   "name": "python3"
  },
  "language_info": {
   "codemirror_mode": {
    "name": "ipython",
    "version": 3
   },
   "file_extension": ".py",
   "mimetype": "text/x-python",
   "name": "python",
   "nbconvert_exporter": "python",
   "pygments_lexer": "ipython3",
   "version": "3.12.2"
  }
 },
 "nbformat": 4,
 "nbformat_minor": 2
}
